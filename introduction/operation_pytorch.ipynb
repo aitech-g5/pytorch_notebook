{
  "nbformat": 4,
  "nbformat_minor": 0,
  "metadata": {
    "colab": {
      "provenance": [],
      "authorship_tag": "ABX9TyOQlEffpyyo/Wp2/fpJyddb",
      "include_colab_link": true
    },
    "kernelspec": {
      "name": "python3",
      "display_name": "Python 3"
    },
    "language_info": {
      "name": "python"
    }
  },
  "cells": [
    {
      "cell_type": "markdown",
      "metadata": {
        "id": "view-in-github",
        "colab_type": "text"
      },
      "source": [
        "<a href=\"https://colab.research.google.com/github/aitech-g5/pytorch_notebook/blob/main/operation_pytorch.ipynb\" target=\"_parent\"><img src=\"https://colab.research.google.com/assets/colab-badge.svg\" alt=\"Open In Colab\"/></a>"
      ]
    },
    {
      "cell_type": "code",
      "source": [
        "#operazioni aritmetiche con i tensor\n",
        "import torch\n",
        "tensor_a = torch.tensor([1,2,3])\n",
        "tensor_b = torch.tensor([4,5,6])\n",
        "\n",
        "#somma\n",
        "add_result = tensor_a + tensor_b\n",
        "print(add_result)\n",
        "#sottrazione\n",
        "sub_result = tensor_a - tensor_b\n",
        "print(sub_result)\n",
        "#moltiplicazione\n",
        "mul_result = tensor_a * tensor_b\n",
        "print(mul_result)\n",
        "#divisione\n",
        "div_result = tensor_a / tensor_b\n",
        "print(div_result)"
      ],
      "metadata": {
        "colab": {
          "base_uri": "https://localhost:8080/"
        },
        "id": "6ZIHA_9pVC5k",
        "outputId": "51612724-9fd6-419f-cf18-a4deb749c460"
      },
      "execution_count": 27,
      "outputs": [
        {
          "output_type": "stream",
          "name": "stdout",
          "text": [
            "tensor([5, 7, 9])\n",
            "tensor([-3, -3, -3])\n",
            "tensor([ 4, 10, 18])\n",
            "tensor([0.2500, 0.4000, 0.5000])\n"
          ]
        }
      ]
    },
    {
      "cell_type": "code",
      "source": [
        "# operazioni element-wise (potenza,trigonometria)\n",
        "# operazioni di matrice come trasposizione\n",
        "# operazione di broadcasting\n",
        "tensor1 = torch.ones(3,1)\n",
        "tensor2 = torch.ones(1,3)\n",
        "print(tensor1,tensor2)\n",
        "somma = tensor1 + tensor2\n",
        "print(somma)\n",
        "\n"
      ],
      "metadata": {
        "colab": {
          "base_uri": "https://localhost:8080/"
        },
        "id": "knvyzWhXWK-i",
        "outputId": "282f97bf-a373-4319-96b2-a4a9253f53d8"
      },
      "execution_count": 28,
      "outputs": [
        {
          "output_type": "stream",
          "name": "stdout",
          "text": [
            "tensor([[1.],\n",
            "        [1.],\n",
            "        [1.]]) tensor([[1., 1., 1.]])\n",
            "tensor([[2., 2., 2.],\n",
            "        [2., 2., 2.],\n",
            "        [2., 2., 2.]])\n"
          ]
        }
      ]
    },
    {
      "cell_type": "code",
      "source": [
        "# operazione di riduzione (somme,medie,massimi,minimi) funzione di perdita delle reti neurali addestramento\n",
        "\n",
        "tensor_a = torch.tensor([1, 2, 3, 4, 5], dtype=torch.float32)\n",
        "\n",
        "sum_result = torch.sum(tensor_a)\n",
        "print(\" Somma degli elementi del tensore:\", sum_result)\n",
        "\n",
        "mean_result = torch.mean(tensor_a)\n",
        "print(\"\\n Media degli elementi del tensore:\", mean_result)\n",
        "\n",
        "max_val, max_idx = torch.max(tensor_a, dim=0)\n",
        "print(\"\\n Valore massimo:\", max_val)\n",
        "print(\" Posizione del valore massimo:\", max_idx)\n",
        "min_val, min_idx = torch.min(tensor_a, dim=0)\n",
        "print(\"\\n Valore mimimo:\", min_val)\n",
        "print(\" Posizione del valore minimo:\", min_idx)\n",
        "\n",
        "max_pos = torch.argmax(tensor_a)\n",
        "min_pos = torch.argmin(tensor_a)\n",
        "print(\"\\n Posizione del valore massimo con argmax\", max_pos)\n",
        "print(\"\\n Posizione del valore minimo con argmin\", min_pos)"
      ],
      "metadata": {
        "colab": {
          "base_uri": "https://localhost:8080/"
        },
        "id": "Gj7otTYwW158",
        "outputId": "f804af6e-9610-48c2-e563-ff3c7a1d8ea6"
      },
      "execution_count": 32,
      "outputs": [
        {
          "output_type": "stream",
          "name": "stdout",
          "text": [
            " Somma degli elementi del tensore: tensor(15.)\n",
            "\n",
            " Media degli elementi del tensore: tensor(3.)\n",
            "\n",
            " Valore massimo: tensor(5.)\n",
            " Posizione del valore massimo: tensor(4)\n",
            "\n",
            " Valore mimimo: tensor(1.)\n",
            " Posizione del valore minimo: tensor(0)\n",
            "\n",
            " Posizione del valore massimo con argmax tensor(4)\n",
            "\n",
            " Posizione del valore minimo con argmin tensor(0)\n"
          ]
        }
      ]
    },
    {
      "cell_type": "code",
      "source": [],
      "metadata": {
        "id": "VvZIJp1gY-QJ"
      },
      "execution_count": null,
      "outputs": []
    }
  ]
}