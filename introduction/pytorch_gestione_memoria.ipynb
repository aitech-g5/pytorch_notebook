{
  "nbformat": 4,
  "nbformat_minor": 0,
  "metadata": {
    "colab": {
      "provenance": [],
      "authorship_tag": "ABX9TyOVR7d0ZCC41fgaI5dLS3Jj",
      "include_colab_link": true
    },
    "kernelspec": {
      "name": "python3",
      "display_name": "Python 3"
    },
    "language_info": {
      "name": "python"
    }
  },
  "cells": [
    {
      "cell_type": "markdown",
      "metadata": {
        "id": "view-in-github",
        "colab_type": "text"
      },
      "source": [
        "<a href=\"https://colab.research.google.com/github/aitech-g5/pytorch_notebook/blob/main/pytorch_gestione_memoria.ipynb\" target=\"_parent\"><img src=\"https://colab.research.google.com/assets/colab-badge.svg\" alt=\"Open In Colab\"/></a>"
      ]
    },
    {
      "cell_type": "code",
      "source": [
        "import torch\n",
        "# gestione memoria dei tensors\n",
        "\n",
        "# operazione in-place e out-of-place -> nuova copia del tensor\n",
        "\n",
        "#out-of-place\n",
        "tensor = torch.tensor([1,2,3])\n",
        "result_o_o_p = tensor.add(1)\n",
        "print(result_o_o_p)\n",
        "\n",
        "#in-place usare con cautela\n",
        "tensor.add_(1)\n",
        "print(tensor)"
      ],
      "metadata": {
        "colab": {
          "base_uri": "https://localhost:8080/"
        },
        "id": "6ZIHA_9pVC5k",
        "outputId": "5e2abe26-e097-4a47-a013-0cdc0153b79d"
      },
      "execution_count": 33,
      "outputs": [
        {
          "output_type": "stream",
          "name": "stdout",
          "text": [
            "tensor([[ 1.5355,  1.7859,  0.3789, -0.0443],\n",
            "        [ 0.0175,  2.6550,  1.1380,  1.2727],\n",
            "        [-0.4751,  0.3436, -0.1484, -0.5148]])\n",
            "tensor([ 0.9140,  1.2708, -0.1987])\n"
          ]
        }
      ]
    },
    {
      "cell_type": "code",
      "source": [
        "# sfruttare la GPU\n",
        "if torch.cuda.is_available():\n",
        "  tensor = tensor.to('cuda')\n",
        "\n",
        "#Pulizia Esplicita, usa torch.cuda_empty_cache\n"
      ],
      "metadata": {
        "id": "aPZ1ZFJ0bDe5"
      },
      "execution_count": null,
      "outputs": []
    }
  ]
}