{
  "nbformat": 4,
  "nbformat_minor": 0,
  "metadata": {
    "colab": {
      "provenance": [],
      "authorship_tag": "ABX9TyOHMa0BFVKtVVBLB2iCOOKP",
      "include_colab_link": true
    },
    "kernelspec": {
      "name": "python3",
      "display_name": "Python 3"
    },
    "language_info": {
      "name": "python"
    }
  },
  "cells": [
    {
      "cell_type": "markdown",
      "metadata": {
        "id": "view-in-github",
        "colab_type": "text"
      },
      "source": [
        "<a href=\"https://colab.research.google.com/github/aitech-g5/pytorch_notebook/blob/main/prova_pytorch2.ipynb\" target=\"_parent\"><img src=\"https://colab.research.google.com/assets/colab-badge.svg\" alt=\"Open In Colab\"/></a>"
      ]
    },
    {
      "cell_type": "code",
      "source": [
        "# ogni tensore in pytorch ha delle proprietà come dtype,shape,device (dove il tensore è allocato)\n",
        "import torch\n",
        "tensor = torch.rand(3,4)\n",
        "print(tensor)\n",
        "print(f\"Dimensione: {tensor.shape}\")\n",
        "print(f\"Tipo di stato: {tensor.dtype}\")\n",
        "print(f\"Dispositivo: {tensor.device}\")"
      ],
      "metadata": {
        "colab": {
          "base_uri": "https://localhost:8080/"
        },
        "id": "NJtLje5XQOzH",
        "outputId": "ce59381f-2d1a-4bf5-e37e-c39ec835bca5"
      },
      "execution_count": null,
      "outputs": [
        {
          "output_type": "stream",
          "name": "stdout",
          "text": [
            "tensor([[0.6082, 0.3969, 0.6255, 0.9295],\n",
            "        [0.6146, 0.9931, 0.0290, 0.3207],\n",
            "        [0.8589, 0.5767, 0.3848, 0.9715]])\n",
            "Dimensione: torch.Size([3, 4])\n",
            "Tipo di stato: torch.float32\n",
            "Dispositivo: cpu\n"
          ]
        }
      ]
    },
    {
      "cell_type": "code",
      "source": [
        "tensor2 = torch.arange(1,10).view(3,3)\n",
        "print(\"Tensore originale:\\n\", tensor2)"
      ],
      "metadata": {
        "colab": {
          "base_uri": "https://localhost:8080/"
        },
        "id": "1Y3cdHL2RDH-",
        "outputId": "c95f913e-aadb-4817-fabd-b48da1c8919e"
      },
      "execution_count": null,
      "outputs": [
        {
          "output_type": "stream",
          "name": "stdout",
          "text": [
            "Tensore originale:\n",
            " tensor([[1, 2, 3],\n",
            "        [4, 5, 6],\n",
            "        [7, 8, 9]])\n"
          ]
        }
      ]
    },
    {
      "cell_type": "code",
      "source": [
        "prima_colonna = tensor2[:,0]\n",
        "print(\"\\nPrima colonna: \\n\", prima_colonna)\n",
        "tensor_ridimensionato = tensor2.view(1,9)\n",
        "print(\"\\nTensore ridimensionato (1x9):\\n\", tensor_ridimensionato)\n",
        "tensor_trasposto = tensor2.t()\n",
        "print(\"\\nTensore traspoisto: \\n\", tensor_trasposto)"
      ],
      "metadata": {
        "colab": {
          "base_uri": "https://localhost:8080/"
        },
        "id": "ULbPmETwRQl2",
        "outputId": "4343edfa-7e0b-4ade-f9d4-7d155249e757"
      },
      "execution_count": null,
      "outputs": [
        {
          "output_type": "stream",
          "name": "stdout",
          "text": [
            "\n",
            "Prima colonna: \n",
            " tensor([1, 4, 7])\n",
            "\n",
            "Tensore ridimensionato (1x9):\n",
            " tensor([[1, 2, 3, 4, 5, 6, 7, 8, 9]])\n",
            "\n",
            "Tensore traspoisto: \n",
            " tensor([[1, 4, 7],\n",
            "        [2, 5, 8],\n",
            "        [3, 6, 9]])\n"
          ]
        }
      ]
    },
    {
      "cell_type": "code",
      "source": [
        "# concatenazione e divisione\n",
        "tensor_1 = torch.rand(2,3)\n",
        "tensor_2 = torch.rand(2,3)\n",
        "\n",
        "concatenated  = torch.cat([tensor_1,tensor_2], dim=0)\n",
        "print(\"Tensori concatenati:\\n\", concatenated)\n",
        "print(\"Dimensione dopo concatenazione:\", concatenated.shape)"
      ],
      "metadata": {
        "colab": {
          "base_uri": "https://localhost:8080/"
        },
        "id": "X6qYgs4aR7N-",
        "outputId": "5972ecff-c32a-4b80-9622-745a5559f606"
      },
      "execution_count": null,
      "outputs": [
        {
          "output_type": "stream",
          "name": "stdout",
          "text": [
            "Tensori concatenati:\n",
            " tensor([[0.5683, 0.1802, 0.3867],\n",
            "        [0.1678, 0.1557, 0.3339],\n",
            "        [0.7931, 0.7914, 0.6505],\n",
            "        [0.5020, 0.2213, 0.9568]])\n",
            "Dimensione dopo concatenazione: torch.Size([4, 3])\n"
          ]
        }
      ]
    },
    {
      "cell_type": "code",
      "source": [
        "tensor = torch.rand(4,4)\n",
        "split_tensor = torch.split(tensor,2)\n",
        "print(\"\\nTensori divisi:\\n\")\n",
        "for i, t in enumerate(split_tensor):\n",
        "   print(f\"Parte {i+1}:\\n\", t)"
      ],
      "metadata": {
        "colab": {
          "base_uri": "https://localhost:8080/"
        },
        "id": "-FbUMIqbS3oO",
        "outputId": "65925ca8-813a-4cdc-c618-1ed114cec944"
      },
      "execution_count": null,
      "outputs": [
        {
          "output_type": "stream",
          "name": "stdout",
          "text": [
            "\n",
            "Tensori divisi:\n",
            "\n",
            "Parte 1:\n",
            " tensor([[0.0898, 0.3563, 0.3980, 0.0490],\n",
            "        [0.3895, 0.8409, 0.1202, 0.8865]])\n",
            "Parte 2:\n",
            " tensor([[0.1443, 0.2416, 0.4157, 0.4215],\n",
            "        [0.7407, 0.0242, 0.6368, 0.9583]])\n"
          ]
        }
      ]
    }
  ]
}