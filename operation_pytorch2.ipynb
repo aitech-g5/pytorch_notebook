{
  "nbformat": 4,
  "nbformat_minor": 0,
  "metadata": {
    "colab": {
      "provenance": [],
      "authorship_tag": "ABX9TyO4LFgKOPCOkoGVxJ1N98uu",
      "include_colab_link": true
    },
    "kernelspec": {
      "name": "python3",
      "display_name": "Python 3"
    },
    "language_info": {
      "name": "python"
    }
  },
  "cells": [
    {
      "cell_type": "markdown",
      "metadata": {
        "id": "view-in-github",
        "colab_type": "text"
      },
      "source": [
        "<a href=\"https://colab.research.google.com/github/aitech-g5/pytorch_notebook/blob/main/operation_pytorch2.ipynb\" target=\"_parent\"><img src=\"https://colab.research.google.com/assets/colab-badge.svg\" alt=\"Open In Colab\"/></a>"
      ]
    },
    {
      "cell_type": "code",
      "source": [
        "import torch\n",
        "# calcola la media su ogni riga\n",
        "\n",
        "matrix = torch.randn(3,4)\n",
        "media_righe = torch.mean(matrix, dim=1)\n",
        "print(matrix)\n",
        "print(media_righe)\n",
        "\n",
        "#torch.var -> varianza\n",
        "#torch.std -> deviazione standard\n",
        "#torch.prod -> prodotto di tutti gli elementi\n",
        "#torch.all -> true se tutti gli elementi sono true"
      ],
      "metadata": {
        "colab": {
          "base_uri": "https://localhost:8080/"
        },
        "id": "6ZIHA_9pVC5k",
        "outputId": "5e2abe26-e097-4a47-a013-0cdc0153b79d"
      },
      "execution_count": 33,
      "outputs": [
        {
          "output_type": "stream",
          "name": "stdout",
          "text": [
            "tensor([[ 1.5355,  1.7859,  0.3789, -0.0443],\n",
            "        [ 0.0175,  2.6550,  1.1380,  1.2727],\n",
            "        [-0.4751,  0.3436, -0.1484, -0.5148]])\n",
            "tensor([ 0.9140,  1.2708, -0.1987])\n"
          ]
        }
      ]
    }
  ]
}